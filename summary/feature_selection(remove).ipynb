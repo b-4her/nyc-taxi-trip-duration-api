{
 "cells": [
  {
   "cell_type": "markdown",
   "id": "b1bf5e76",
   "metadata": {},
   "source": [
    "This notebook will be mainly focused on trying different comination of features that we wanted to test them...\n",
    "If you find it useless then just delete it and stick with the excel and word to write notes and observations."
   ]
  },
  {
   "cell_type": "markdown",
   "id": "1d4ef6bc",
   "metadata": {},
   "source": [
    "Should we do column transformation by logp for the trip distance?? (gives better result, try to apply it on all its versions)"
   ]
  },
  {
   "cell_type": "markdown",
   "id": "e1aad8fa",
   "metadata": {},
   "source": [
    "we should return IQR in clean outliers inner funciton"
   ]
  },
  {
   "cell_type": "markdown",
   "id": "212c3bb0",
   "metadata": {},
   "source": [
    "I TRIED LOGP ON MANY THINGS CLEAN IT AND DECIDE WHAT TO DO NEXT"
   ]
  },
  {
   "cell_type": "markdown",
   "id": "3981d898",
   "metadata": {},
   "source": [
    "TODO:\n",
    "Baseline is good for now so just leave it\n",
    "Read through preprocessing, decide which thigns you want to do log1p and organize code\n",
    "Decide how you want to clean outliers\n",
    "\n",
    "GO over all the features and decide what to do with it, then try \n",
    "\n",
    "Finalize your feature selections\n",
    "Produce your pickle\n",
    "\n",
    "Consider removing th bizzard outlier rows.\n",
    "\n",
    "IMPORTANT:\n",
    "after you tide everything tomorrow, for every model you want to try create separate branch then go \n",
    "back to the original organize, you don't need to merge untell you find best model, you may add details on each model\n",
    "in the excel sheet.  After you find best model, merge it and remove all others.\n",
    "DONT keep changing on the original, just take copies and save a lot of time locally.\n",
    "\n",
    "Tide main, creat new modeling branch and delete old, switch to the modling branch dont forget that"
   ]
  },
  {
   "cell_type": "markdown",
   "id": "b0c2bf7c",
   "metadata": {},
   "source": [
    "Try to make the model work without any of the features and note how much it will perform, use this in the report to see how the feature engineering impacted your model."
   ]
  },
  {
   "cell_type": "code",
   "execution_count": null,
   "id": "a14d6caf",
   "metadata": {
    "vscode": {
     "languageId": "plaintext"
    }
   },
   "outputs": [],
   "source": [
    "Mention that you ended up not dropping those ones that you had to drop as even \n",
    "things with very low correlation with target did improve the model at the end"
   ]
  },
  {
   "cell_type": "markdown",
   "id": "27a5153f",
   "metadata": {},
   "source": [
    "MAKE SURE YOU COMMIT BEFORE YOU SWITCH BRANCHES"
   ]
  },
  {
   "cell_type": "markdown",
   "id": "027c4290",
   "metadata": {},
   "source": [
    "encoding time related features increased the model a lot"
   ]
  },
  {
   "cell_type": "markdown",
   "id": "7f4b309d",
   "metadata": {},
   "source": [
    "NEXT:\n",
    "handle bizzard\n",
    "remove outliers from trip_distance\n",
    "different encoding?\n",
    "do standarizing?\n",
    "add features using log?\n",
    "\n",
    "Removing outliers got soo useful for some reason"
   ]
  },
  {
   "cell_type": "markdown",
   "id": "33819bfc",
   "metadata": {},
   "source": [
    "For some reason standard scaler performed better then minmax and without scaling"
   ]
  },
  {
   "cell_type": "markdown",
   "id": "2d10a9e1",
   "metadata": {},
   "source": [
    "NO ENGINEERED FEATURES VS ENGINEERED FEATURES PERFORMANCE\n",
    "Just drop and compare"
   ]
  },
  {
   "cell_type": "markdown",
   "id": "b3c80205",
   "metadata": {},
   "source": [
    "REMOVING OUTLIERS BEFORE LOGP FUCKS THE MODEL - This is probably because it removes many rows, but when we do log it gets more stable\n",
    "\n"
   ]
  },
  {
   "cell_type": "markdown",
   "id": "04d99c5c",
   "metadata": {},
   "source": [
    "Squaring the column can sometimes remove its left skewness because it tends to make its small a bit higher but its  big way bigger, this is a small trick.  cube can do the same if we don't have negatives"
   ]
  },
  {
   "cell_type": "markdown",
   "id": "887bbe17",
   "metadata": {},
   "source": [
    "remember to return results to seconds/minutes after you predict."
   ]
  },
  {
   "cell_type": "markdown",
   "id": "3ef88699",
   "metadata": {},
   "source": [
    "FOR THE REPORT JUST GO THROUGH THE NOTES IN EDA\n",
    "Then try to go through steps and what you faced in the modeling and how\n",
    "it started to increase, create few models in the models file and call one of them final model, tpye the results in the report and how they increased ... etc\n",
    " \n",
    "\n",
    "\n",
    "### IMPORTSTNT\n",
    "\n"
   ]
  },
  {
   "cell_type": "markdown",
   "id": "da76ac92",
   "metadata": {},
   "source": []
  },
  {
   "cell_type": "markdown",
   "id": "549d0571",
   "metadata": {},
   "source": [
    "REMOVING outliers after the squaring makes the performance worse\n",
    "then removing them "
   ]
  },
  {
   "cell_type": "markdown",
   "id": "0754e7df",
   "metadata": {},
   "source": [
    "---\n",
    "\n",
    "From dosc:"
   ]
  },
  {
   "cell_type": "markdown",
   "id": "8b9ded2e",
   "metadata": {},
   "source": [
    "Becareful when making the outliers removal function so that it returns the IQR of each feature separately to use it when working on the cleaning of the test and validation.\n",
    "\n",
    "(From EDA)\n",
    "TODO: \n",
    "include real NYC map and add notes from tablet and add it to the report.\n",
    "Read other's kaggle and take what interests you  \n",
    "delete anomaly dates as outliers and see what happens and note it in the report.\n",
    "Mention the outliers issue and that if we delete them performance drops\n",
    "Mention issues you will face, like possible data leakages ... etc\n",
    "\n",
    "\n",
    "Add more hybrid features??\n",
    "Is there any extra factors we can consider in the virtual speed??\n",
    "\n",
    "\n",
    "Consider adding more time related features and test them, look onto the documentation and see what things might be added\n",
    "**In the end note that CHAT GPT was used to help build few plots as the idea was mine but its implementation was complex**\n"
   ]
  },
  {
   "cell_type": "markdown",
   "id": "c9e024f5",
   "metadata": {},
   "source": [
    "---\n",
    "\n",
    "MENTION THE FINAL COLUMNS SELECTED IN THE REPORT\n",
    "AND WHAT HAPPENED IN THE MODELING"
   ]
  },
  {
   "cell_type": "markdown",
   "id": "e542b1c1",
   "metadata": {},
   "source": [
    "AND what you noticed regarding many things"
   ]
  }
 ],
 "metadata": {
  "language_info": {
   "name": "python"
  }
 },
 "nbformat": 4,
 "nbformat_minor": 5
}
