{
 "cells": [
  {
   "cell_type": "markdown",
   "id": "b1bf5e76",
   "metadata": {},
   "source": [
    "This notebook will be mainly focused on trying different comination of features that we wanted to test them...\n",
    "If you find it useless then just delete it and stick with the excel and word to write notes and observations."
   ]
  }
 ],
 "metadata": {
  "language_info": {
   "name": "python"
  }
 },
 "nbformat": 4,
 "nbformat_minor": 5
}
