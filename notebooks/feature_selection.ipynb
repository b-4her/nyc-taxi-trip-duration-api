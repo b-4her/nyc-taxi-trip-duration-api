{
 "cells": [
  {
   "cell_type": "markdown",
   "id": "b1bf5e76",
   "metadata": {},
   "source": [
    "This notebook will be mainly focused on trying different comination of features that we wanted to test them...\n",
    "If you find it useless then just delete it and stick with the excel and word to write notes and observations."
   ]
  },
  {
   "cell_type": "markdown",
   "id": "1d4ef6bc",
   "metadata": {},
   "source": [
    "Should we do column transformation by logp for the trip distance?? (gives better result, try to apply it on all its versions)"
   ]
  },
  {
   "cell_type": "markdown",
   "id": "e1aad8fa",
   "metadata": {},
   "source": [
    "we should return IQR in clean outliers inner funciton"
   ]
  },
  {
   "cell_type": "markdown",
   "id": "212c3bb0",
   "metadata": {},
   "source": [
    "I TRIED LOGP ON MANY THINGS CLEAN IT AND DECIDE WHAT TO DO NEXT"
   ]
  },
  {
   "cell_type": "markdown",
   "id": "3981d898",
   "metadata": {},
   "source": [
    "TODO:\n",
    "Baseline is good for now so just leave it\n",
    "Read through preprocessing, decide which thigns you want to do log1p and organize code\n",
    "Decide how you want to clean outliers\n",
    "\n",
    "GO over all the features and decide what to do with it, then try \n",
    "\n",
    "Finalize your feature selections\n",
    "Produce your pickle\n",
    "\n",
    "Consider removing th bizzard outlier rows.\n",
    "\n",
    "IMPORTANT:\n",
    "after you tide everything tomorrow, for every model you want to try create separate branch then go \n",
    "back to the original organize, you don't need to merge untell you find best model, you may add details on each model\n",
    "in the excel sheet.  After you find best model, merge it and remove all others.\n",
    "DONT keep changing on the original, just take copies and save a lot of time locally.\n",
    "\n",
    "Tide main, creat new modeling branch and delete old, switch to the modling branch dont forget that"
   ]
  },
  {
   "cell_type": "markdown",
   "id": "b0c2bf7c",
   "metadata": {},
   "source": [
    "Try to make the model work without any of the features and note how much it will perform, use this in the report to see how the feature engineering impacted your model."
   ]
  },
  {
   "cell_type": "code",
   "execution_count": null,
   "id": "a14d6caf",
   "metadata": {
    "vscode": {
     "languageId": "plaintext"
    }
   },
   "outputs": [],
   "source": [
    "Mention that you ended up not dropping those ones that you had to drop as even \n",
    "things with very low correlation with target did improve the model at the end"
   ]
  },
  {
   "cell_type": "markdown",
   "id": "27a5153f",
   "metadata": {},
   "source": [
    "MAKE SURE YOU COMMIT BEFORE YOU SWITCH BRANCHES"
   ]
  },
  {
   "cell_type": "markdown",
   "id": "027c4290",
   "metadata": {},
   "source": [
    "encoding time related features increased the model a lot"
   ]
  },
  {
   "cell_type": "markdown",
   "id": "7f4b309d",
   "metadata": {},
   "source": [
    "NEXT:\n",
    "handle bizzard\n",
    "remove outliers from trip_distance\n",
    "different encoding?\n",
    "do standarizing?\n",
    "add features using log?\n",
    "\n",
    "Removing outliers got soo useful for some reason"
   ]
  }
 ],
 "metadata": {
  "language_info": {
   "name": "python"
  }
 },
 "nbformat": 4,
 "nbformat_minor": 5
}
